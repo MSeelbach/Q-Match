{
 "cells": [
  {
   "cell_type": "code",
   "execution_count": 3,
   "metadata": {},
   "outputs": [
    {
     "ename": "ValueError",
     "evalue": "Some errors were detected !\n    Line #29 (got 48 columns instead of 26)\n    Line #30 (got 61 columns instead of 26)\n    Line #31 (got 73 columns instead of 26)\n    Line #32 (got 58 columns instead of 26)\n    Line #33 (got 38 columns instead of 26)\n    Line #34 (got 62 columns instead of 26)\n    Line #35 (got 61 columns instead of 26)\n    Line #36 (got 54 columns instead of 26)\n    Line #37 (got 43 columns instead of 26)\n    Line #38 (got 76 columns instead of 26)\n    Line #39 (got 63 columns instead of 26)\n    Line #40 (got 53 columns instead of 26)\n    Line #41 (got 65 columns instead of 26)\n    Line #42 (got 44 columns instead of 26)\n    Line #43 (got 51 columns instead of 26)\n    Line #44 (got 65 columns instead of 26)\n    Line #45 (got 79 columns instead of 26)\n    Line #46 (got 42 columns instead of 26)\n    Line #47 (got 49 columns instead of 26)\n    Line #48 (got 53 columns instead of 26)\n    Line #49 (got 53 columns instead of 26)\n    Line #50 (got 75 columns instead of 26)\n    Line #51 (got 72 columns instead of 26)",
     "output_type": "error",
     "traceback": [
      "\u001b[1;31m---------------------------------------------------------------------------\u001b[0m",
      "\u001b[1;31mValueError\u001b[0m                                Traceback (most recent call last)",
      "\u001b[1;32m<ipython-input-3-97f4c4368e74>\u001b[0m in \u001b[0;36m<module>\u001b[1;34m\u001b[0m\n\u001b[0;32m     14\u001b[0m         \u001b[0mk\u001b[0m \u001b[1;33m=\u001b[0m \u001b[0mi\u001b[0m\u001b[1;33m.\u001b[0m\u001b[0mrstrip\u001b[0m\u001b[1;33m(\u001b[0m\u001b[1;33m)\u001b[0m\u001b[1;33m.\u001b[0m\u001b[0msplit\u001b[0m\u001b[1;33m(\u001b[0m\u001b[1;34m\",\"\u001b[0m\u001b[1;33m)\u001b[0m\u001b[1;33m\u001b[0m\u001b[1;33m\u001b[0m\u001b[0m\n\u001b[0;32m     15\u001b[0m         \u001b[1;31m#data.append([float(i) if is_float(i) else i for i in k])\u001b[0m\u001b[1;33m\u001b[0m\u001b[1;33m\u001b[0m\u001b[1;33m\u001b[0m\u001b[0m\n\u001b[1;32m---> 16\u001b[1;33m data = np.genfromtxt('bur26a.dat',\n\u001b[0m\u001b[0;32m     17\u001b[0m                      \u001b[0mskip_header\u001b[0m\u001b[1;33m=\u001b[0m\u001b[1;36m1\u001b[0m\u001b[1;33m,\u001b[0m\u001b[1;33m\u001b[0m\u001b[1;33m\u001b[0m\u001b[0m\n\u001b[0;32m     18\u001b[0m                      \u001b[0mskip_footer\u001b[0m\u001b[1;33m=\u001b[0m\u001b[1;36m1\u001b[0m\u001b[1;33m,\u001b[0m\u001b[1;33m\u001b[0m\u001b[1;33m\u001b[0m\u001b[0m\n",
      "\u001b[1;32m~\\.conda\\envs\\Numerics\\lib\\site-packages\\numpy\\lib\\npyio.py\u001b[0m in \u001b[0;36mgenfromtxt\u001b[1;34m(fname, dtype, comments, delimiter, skip_header, skip_footer, converters, missing_values, filling_values, usecols, names, excludelist, deletechars, replace_space, autostrip, case_sensitive, defaultfmt, unpack, usemask, loose, invalid_raise, max_rows, encoding, like)\u001b[0m\n\u001b[0;32m   2120\u001b[0m             \u001b[1;31m# Raise an exception ?\u001b[0m\u001b[1;33m\u001b[0m\u001b[1;33m\u001b[0m\u001b[1;33m\u001b[0m\u001b[0m\n\u001b[0;32m   2121\u001b[0m             \u001b[1;32mif\u001b[0m \u001b[0minvalid_raise\u001b[0m\u001b[1;33m:\u001b[0m\u001b[1;33m\u001b[0m\u001b[1;33m\u001b[0m\u001b[0m\n\u001b[1;32m-> 2122\u001b[1;33m                 \u001b[1;32mraise\u001b[0m \u001b[0mValueError\u001b[0m\u001b[1;33m(\u001b[0m\u001b[0merrmsg\u001b[0m\u001b[1;33m)\u001b[0m\u001b[1;33m\u001b[0m\u001b[1;33m\u001b[0m\u001b[0m\n\u001b[0m\u001b[0;32m   2123\u001b[0m             \u001b[1;31m# Issue a warning ?\u001b[0m\u001b[1;33m\u001b[0m\u001b[1;33m\u001b[0m\u001b[1;33m\u001b[0m\u001b[0m\n\u001b[0;32m   2124\u001b[0m             \u001b[1;32melse\u001b[0m\u001b[1;33m:\u001b[0m\u001b[1;33m\u001b[0m\u001b[1;33m\u001b[0m\u001b[0m\n",
      "\u001b[1;31mValueError\u001b[0m: Some errors were detected !\n    Line #29 (got 48 columns instead of 26)\n    Line #30 (got 61 columns instead of 26)\n    Line #31 (got 73 columns instead of 26)\n    Line #32 (got 58 columns instead of 26)\n    Line #33 (got 38 columns instead of 26)\n    Line #34 (got 62 columns instead of 26)\n    Line #35 (got 61 columns instead of 26)\n    Line #36 (got 54 columns instead of 26)\n    Line #37 (got 43 columns instead of 26)\n    Line #38 (got 76 columns instead of 26)\n    Line #39 (got 63 columns instead of 26)\n    Line #40 (got 53 columns instead of 26)\n    Line #41 (got 65 columns instead of 26)\n    Line #42 (got 44 columns instead of 26)\n    Line #43 (got 51 columns instead of 26)\n    Line #44 (got 65 columns instead of 26)\n    Line #45 (got 79 columns instead of 26)\n    Line #46 (got 42 columns instead of 26)\n    Line #47 (got 49 columns instead of 26)\n    Line #48 (got 53 columns instead of 26)\n    Line #49 (got 53 columns instead of 26)\n    Line #50 (got 75 columns instead of 26)\n    Line #51 (got 72 columns instead of 26)"
     ]
    }
   ],
   "source": [
    "import numpy as np\n",
    "\n",
    "def is_float(string):\n",
    "    \"\"\" True if given string is float else False\"\"\"\n",
    "    try:\n",
    "        return float(string)\n",
    "    except ValueError:\n",
    "        return False\n",
    "\n",
    "#data = []\n",
    "with open('bur26a.dat', 'r') as f:\n",
    "    d = f.readlines()\n",
    "    for i in d:\n",
    "        k = i.rstrip().split(\",\")\n",
    "        #data.append([float(i) if is_float(i) else i for i in k]) \n",
    "data = np.genfromtxt('bur26a.dat',\n",
    "                     skip_header=1,\n",
    "                     skip_footer=1,\n",
    "                     names=True,\n",
    "                     dtype=None,\n",
    "                     delimiter=' ')\n",
    "#data = np.array(data, dtype='O')"
   ]
  },
  {
   "cell_type": "code",
   "execution_count": 4,
   "metadata": {},
   "outputs": [
    {
     "data": {
      "text/plain": [
       "array([[26.0],\n",
       "       [''],\n",
       "       ['53 66 66 66 66 53 53 53 53 53 73 53 53 53 66 53 53 53 53 85 73 73 73 73 53 53'],\n",
       "       ['66 53 66 66 66 53 53 53 53 53 53 73 53 53 66 53 53 53 53 73 85 73 73 73 53 53'],\n",
       "       ['66 66 53 66 66 53 53 53 53 53 53 53 73 53 66 53 53 53 53 73 73 85 73 73 53 53'],\n",
       "       ['66 66 66 53 66 53 53 53 53 53 53 53 53 73 73 53 53 53 53 73 73 73 85 85 53 53'],\n",
       "       ['66 66 66 66 53 53 53 53 53 53 53 53 53 53 73 53 53 53 53 73 73 73 85 85 53 53'],\n",
       "       ['53 53 53 53 53 53 66 66 66 66 53 53 53 53 53 73 73 53 53 53 53 53 53 53 85 85'],\n",
       "       ['53 53 53 53 53 66 53 66 66 66 53 53 53 53 53 73 73 53 53 53 53 53 53 53 85 85'],\n",
       "       ['53 53 53 53 53 66 66 53 66 66 53 53 53 53 53 66 53 73 53 53 53 53 53 53 73 73'],\n",
       "       ['53 53 53 53 53 66 66 66 53 66 53 53 53 53 53 66 53 53 73 53 53 53 53 53 73 73'],\n",
       "       ['53 53 53 53 53 66 66 66 66 53 53 53 53 53 53 66 53 53 53 53 53 53 53 53 73 73'],\n",
       "       ['66 66 66 66 66 53 53 53 53 53 53 53 53 53 66 53 53 53 53 73 73 73 73 73 53 53'],\n",
       "       ['66 66 66 66 66 53 53 53 53 53 53 53 53 53 66 53 53 53 53 73 73 73 73 73 53 53'],\n",
       "       ['66 66 66 66 66 53 53 53 53 53 53 53 53 53 66 53 53 53 53 73 73 73 73 73 53 53'],\n",
       "       ['66 66 66 66 66 53 53 53 53 53 53 53 53 53 66 53 53 53 53 73 73 73 73 73 53 53'],\n",
       "       ['66 66 66 66 66 53 53 53 53 53 53 53 53 66 53 53 53 53 53 73 73 73 73 73 53 53'],\n",
       "       ['53 53 53 53 53 66 66 66 66 66 53 53 53 53 53 53 66 53 53 53 53 53 53 53 73 73'],\n",
       "       ['53 53 53 53 53 66 66 66 66 66 53 53 53 53 53 66 53 53 53 53 53 53 53 53 73 73'],\n",
       "       ['53 53 53 53 53 66 66 66 66 66 53 53 53 53 53 66 53 53 53 53 53 53 53 53 73 73'],\n",
       "       ['53 53 53 53 53 66 66 66 66 66 53 53 53 53 53 66 53 53 53 53 53 53 53 53 73 73'],\n",
       "       ['85 66 66 66 66 53 53 53 53 53 66 53 53 53 66 53 53 53 53 53 73 73 73 73 53 53'],\n",
       "       ['66 85 66 66 66 53 53 53 53 53 53 66 53 53 66 53 53 53 53 73 53 73 73 73 53 53'],\n",
       "       ['66 66 85 66 66 53 53 53 53 53 53 53 66 53 66 53 53 53 53 73 73 53 73 73 53 53'],\n",
       "       ['66 66 66 85 85 53 53 53 53 53 53 53 53 66 66 53 53 53 53 73 73 73 53 66 53 53'],\n",
       "       ['66 66 66 85 85 53 53 53 53 53 53 53 53 66 66 53 53 53 53 73 73 73 66 53 53 53'],\n",
       "       ['53 53 53 53 53 85 85 66 66 66 53 53 53 53 53 66 66 53 53 53 53 53 53 53 53 66'],\n",
       "       ['53 53 53 53 53 85 85 66 66 66 53 53 53 53 53 66 66 53 53 53 53 53 53 53 66 53'],\n",
       "       [''],\n",
       "       [' 47 348  316   74   12 181  338  309   35  3  84 714 367 1153   7  71 0  687  432  507 975 38   6  8  7  15'],\n",
       "       ['175   9    0    4 1300  12   41   18  183  6   3 102   2    7  84   0 0  150   84   54 148  2  13  0  1  11'],\n",
       "       [' 19   0    6    9   12   0    1 3100    3  1 209   9   3    1  22   0 0    4    2    3   1  0   2  0  0   0'],\n",
       "       ['575  10    5    3 2729  10   10    6 1186  0   4  48  46   30 103  11 0  102   36   34 160  2  14  0  3   1'],\n",
       "       [' 56 265  165  249   45 142  391  398 2329  4 132 747 479 4754  32  51 3 4501 1311  512 326 26 111 43  6  68'],\n",
       "       ['190   3    0   10  313 112   31    4   91  2   3  76   2   16 104   5 1  163   30  257  45  2   1  0  1  16'],\n",
       "       ['187   6    0    4 1889   9    7    2  138  3  33 126   7   41  39   0 0  198  199  149 100  2   1  0  5  10'],\n",
       "       ['626  11    3    5 1232  12    5    4  207  2  26 230 125  204 132   1 0  596  113  596 107  5  67  0  4  12'],\n",
       "       ['107  50 1029  149 2067  53  471  157    3  2 151 370 292 2100 220  18 3  250 1038 1008  25 65   2  4  0  42'],\n",
       "       ['171   0    0    0  125   0    0    0    0  0   0   0   0    1  12   0 0    0    0    1  28  0   0  0  0   0'],\n",
       "       ['286   4    2    0  297  11   13    7   53  0   4 118   1   11 247   4 0  113   32  218 116  1   4  0  1   3'],\n",
       "       ['473  80   23   99  802  49   64   13  787  2  33 639  27   43 126  11 0    9  239  332 186 12   1  0 28  21'],\n",
       "       ['378  41    3    2  567   9    5    5  581  0   5  23 244    4 101  80 0    1   44   86 101  0   6  0  0   0'],\n",
       "       ['407  56   36 1458 1176 112 1045   69  534  9 171  59  57  394 184  13 0   21  496  701 194 24  36  1  5 159'],\n",
       "       [' 16  68  196  111    6  60   56  119    7  7  35 344 193  769  13  73 0  590  157  114  26 17  48  3  7 122'],\n",
       "       ['188   0    0    5  111  43    0   25  107  0   2  75   2    1 146  56 0  391   13   42  44  0   0  0  0   0'],\n",
       "       ['  0   0    0    0    1   0    0    0    0  0   0   0   0    0   0   0 0    1    0    0  16  0   0  0  0   0'],\n",
       "       ['539 180   75  426 1251 119  211  129  548 12 212 190 122  229 367  41 0   89  443  601 314 20  77  2  3  94'],\n",
       "       ['272  84 1132   18  941  46   77   51  664 10  72  47  50    9 372 278 0   62  359 1432  92 42  46  0 19  18'],\n",
       "       ['381  36    5    6 2158  29   38   85  595  3  20 160  21   24 139   5 1  302  419  335 197  8  98  0  8 248'],\n",
       "       [' 35  64  213   35  144 386   94   26   10  1  38  62 270 1624   1  56 0  426  463  284   2 13   9  4  0  12'],\n",
       "       [' 22   1    0    1  523   0    0    0   97  0   0   0   0    0 525   1 0    1    0    2   1  0   4  0  0   0'],\n",
       "       ['298   1    0    1  591   0    0    2  480 14   0   1   1    5 153   0 1    0    4    0  67  0   0  0  0   0'],\n",
       "       ['  5   0    1    0    6   0    0    0   15  0   1   0   0    0   2  14 0    0    0    7   3  0   0  0  1   1'],\n",
       "       ['  0   1    1    2   10   0    1    1    1  0   4   0  30    8   3   9 0    3   13    1   0  0   1  1  0   0'],\n",
       "       [' 37   1    1    2  400   6   10    2  177  1   5  15   3    8  19   6 0    1    7   78 529  4 101  0  1   2'],\n",
       "       ['']], dtype=object)"
      ]
     },
     "execution_count": 4,
     "metadata": {},
     "output_type": "execute_result"
    }
   ],
   "source": [
    "data\n"
   ]
  },
  {
   "cell_type": "code",
   "execution_count": 10,
   "metadata": {},
   "outputs": [
    {
     "ename": "FileNotFoundError",
     "evalue": "[WinError 3] Das System kann den angegebenen Pfad nicht finden: 'D:/Marcel/Documents/Promotion/ICCV/Qaplib/qapdata.tar/bur26a'",
     "output_type": "error",
     "traceback": [
      "\u001b[1;31m---------------------------------------------------------------------------\u001b[0m",
      "\u001b[1;31mFileNotFoundError\u001b[0m                         Traceback (most recent call last)",
      "\u001b[1;32m<ipython-input-10-30a8238bb41c>\u001b[0m in \u001b[0;36m<module>\u001b[1;34m\u001b[0m\n\u001b[0;32m      4\u001b[0m \u001b[1;33m\u001b[0m\u001b[0m\n\u001b[0;32m      5\u001b[0m \u001b[0mpath\u001b[0m \u001b[1;33m=\u001b[0m \u001b[1;34m\"D:/Marcel/Documents/Promotion/ICCV/Qaplib/qapdata.tar/bur26a\"\u001b[0m\u001b[1;33m\u001b[0m\u001b[1;33m\u001b[0m\u001b[0m\n\u001b[1;32m----> 6\u001b[1;33m \u001b[0mdirs\u001b[0m \u001b[1;33m=\u001b[0m \u001b[0mos\u001b[0m\u001b[1;33m.\u001b[0m\u001b[0mlistdir\u001b[0m\u001b[1;33m(\u001b[0m\u001b[0mpath\u001b[0m\u001b[1;33m)\u001b[0m\u001b[1;33m\u001b[0m\u001b[1;33m\u001b[0m\u001b[0m\n\u001b[0m\u001b[0;32m      7\u001b[0m \u001b[1;31m#\u001b[0m\u001b[1;33m\u001b[0m\u001b[1;33m\u001b[0m\u001b[1;33m\u001b[0m\u001b[0m\n\u001b[0;32m      8\u001b[0m \u001b[1;31m#\u001b[0m\u001b[1;33m\u001b[0m\u001b[1;33m\u001b[0m\u001b[1;33m\u001b[0m\u001b[0m\n",
      "\u001b[1;31mFileNotFoundError\u001b[0m: [WinError 3] Das System kann den angegebenen Pfad nicht finden: 'D:/Marcel/Documents/Promotion/ICCV/Qaplib/qapdata.tar/bur26a'"
     ]
    }
   ],
   "source": [
    "import pandas as pd\n",
    "import numpy as np\n",
    "import os\n",
    "\n",
    "path = \"D:/Marcel/Documents/Promotion/ICCV/Qaplib/qapdata.tar/bur26a\"\n",
    "dirs = os.listdir(path)\n",
    "#\n",
    "#\n",
    "for file in dirs:\n",
    "    table = pd.read_table(file, skiprows=4)\n",
    "    SA = table.loc[:,\"SA\"]\n",
    "    print(SA)"
   ]
  },
  {
   "cell_type": "code",
   "execution_count": 19,
   "metadata": {
    "scrolled": true
   },
   "outputs": [
    {
     "ename": "ParserError",
     "evalue": "Error tokenizing data. C error: Expected 1 fields in line 3, saw 26\n",
     "output_type": "error",
     "traceback": [
      "\u001b[1;31m---------------------------------------------------------------------------\u001b[0m",
      "\u001b[1;31mParserError\u001b[0m                               Traceback (most recent call last)",
      "\u001b[1;32m<ipython-input-19-803f8f6666f5>\u001b[0m in \u001b[0;36m<module>\u001b[1;34m\u001b[0m\n\u001b[1;32m----> 1\u001b[1;33m \u001b[0ma\u001b[0m\u001b[1;33m=\u001b[0m\u001b[0mpd\u001b[0m\u001b[1;33m.\u001b[0m\u001b[0mread_csv\u001b[0m\u001b[1;33m(\u001b[0m\u001b[1;34m'bur26a.dat'\u001b[0m\u001b[1;33m,\u001b[0m \u001b[0mdelim_whitespace\u001b[0m\u001b[1;33m=\u001b[0m\u001b[1;32mTrue\u001b[0m\u001b[1;33m,\u001b[0m \u001b[0mheader\u001b[0m\u001b[1;33m=\u001b[0m\u001b[1;32mNone\u001b[0m\u001b[1;33m)\u001b[0m\u001b[1;33m\u001b[0m\u001b[1;33m\u001b[0m\u001b[0m\n\u001b[0m",
      "\u001b[1;32m~\\.conda\\envs\\Numerics\\lib\\site-packages\\pandas\\io\\parsers.py\u001b[0m in \u001b[0;36mread_csv\u001b[1;34m(filepath_or_buffer, sep, delimiter, header, names, index_col, usecols, squeeze, prefix, mangle_dupe_cols, dtype, engine, converters, true_values, false_values, skipinitialspace, skiprows, skipfooter, nrows, na_values, keep_default_na, na_filter, verbose, skip_blank_lines, parse_dates, infer_datetime_format, keep_date_col, date_parser, dayfirst, cache_dates, iterator, chunksize, compression, thousands, decimal, lineterminator, quotechar, quoting, doublequote, escapechar, comment, encoding, dialect, error_bad_lines, warn_bad_lines, delim_whitespace, low_memory, memory_map, float_precision)\u001b[0m\n\u001b[0;32m    686\u001b[0m     )\n\u001b[0;32m    687\u001b[0m \u001b[1;33m\u001b[0m\u001b[0m\n\u001b[1;32m--> 688\u001b[1;33m     \u001b[1;32mreturn\u001b[0m \u001b[0m_read\u001b[0m\u001b[1;33m(\u001b[0m\u001b[0mfilepath_or_buffer\u001b[0m\u001b[1;33m,\u001b[0m \u001b[0mkwds\u001b[0m\u001b[1;33m)\u001b[0m\u001b[1;33m\u001b[0m\u001b[1;33m\u001b[0m\u001b[0m\n\u001b[0m\u001b[0;32m    689\u001b[0m \u001b[1;33m\u001b[0m\u001b[0m\n\u001b[0;32m    690\u001b[0m \u001b[1;33m\u001b[0m\u001b[0m\n",
      "\u001b[1;32m~\\.conda\\envs\\Numerics\\lib\\site-packages\\pandas\\io\\parsers.py\u001b[0m in \u001b[0;36m_read\u001b[1;34m(filepath_or_buffer, kwds)\u001b[0m\n\u001b[0;32m    458\u001b[0m \u001b[1;33m\u001b[0m\u001b[0m\n\u001b[0;32m    459\u001b[0m     \u001b[1;32mtry\u001b[0m\u001b[1;33m:\u001b[0m\u001b[1;33m\u001b[0m\u001b[1;33m\u001b[0m\u001b[0m\n\u001b[1;32m--> 460\u001b[1;33m         \u001b[0mdata\u001b[0m \u001b[1;33m=\u001b[0m \u001b[0mparser\u001b[0m\u001b[1;33m.\u001b[0m\u001b[0mread\u001b[0m\u001b[1;33m(\u001b[0m\u001b[0mnrows\u001b[0m\u001b[1;33m)\u001b[0m\u001b[1;33m\u001b[0m\u001b[1;33m\u001b[0m\u001b[0m\n\u001b[0m\u001b[0;32m    461\u001b[0m     \u001b[1;32mfinally\u001b[0m\u001b[1;33m:\u001b[0m\u001b[1;33m\u001b[0m\u001b[1;33m\u001b[0m\u001b[0m\n\u001b[0;32m    462\u001b[0m         \u001b[0mparser\u001b[0m\u001b[1;33m.\u001b[0m\u001b[0mclose\u001b[0m\u001b[1;33m(\u001b[0m\u001b[1;33m)\u001b[0m\u001b[1;33m\u001b[0m\u001b[1;33m\u001b[0m\u001b[0m\n",
      "\u001b[1;32m~\\.conda\\envs\\Numerics\\lib\\site-packages\\pandas\\io\\parsers.py\u001b[0m in \u001b[0;36mread\u001b[1;34m(self, nrows)\u001b[0m\n\u001b[0;32m   1196\u001b[0m     \u001b[1;32mdef\u001b[0m \u001b[0mread\u001b[0m\u001b[1;33m(\u001b[0m\u001b[0mself\u001b[0m\u001b[1;33m,\u001b[0m \u001b[0mnrows\u001b[0m\u001b[1;33m=\u001b[0m\u001b[1;32mNone\u001b[0m\u001b[1;33m)\u001b[0m\u001b[1;33m:\u001b[0m\u001b[1;33m\u001b[0m\u001b[1;33m\u001b[0m\u001b[0m\n\u001b[0;32m   1197\u001b[0m         \u001b[0mnrows\u001b[0m \u001b[1;33m=\u001b[0m \u001b[0m_validate_integer\u001b[0m\u001b[1;33m(\u001b[0m\u001b[1;34m\"nrows\"\u001b[0m\u001b[1;33m,\u001b[0m \u001b[0mnrows\u001b[0m\u001b[1;33m)\u001b[0m\u001b[1;33m\u001b[0m\u001b[1;33m\u001b[0m\u001b[0m\n\u001b[1;32m-> 1198\u001b[1;33m         \u001b[0mret\u001b[0m \u001b[1;33m=\u001b[0m \u001b[0mself\u001b[0m\u001b[1;33m.\u001b[0m\u001b[0m_engine\u001b[0m\u001b[1;33m.\u001b[0m\u001b[0mread\u001b[0m\u001b[1;33m(\u001b[0m\u001b[0mnrows\u001b[0m\u001b[1;33m)\u001b[0m\u001b[1;33m\u001b[0m\u001b[1;33m\u001b[0m\u001b[0m\n\u001b[0m\u001b[0;32m   1199\u001b[0m \u001b[1;33m\u001b[0m\u001b[0m\n\u001b[0;32m   1200\u001b[0m         \u001b[1;31m# May alter columns / col_dict\u001b[0m\u001b[1;33m\u001b[0m\u001b[1;33m\u001b[0m\u001b[1;33m\u001b[0m\u001b[0m\n",
      "\u001b[1;32m~\\.conda\\envs\\Numerics\\lib\\site-packages\\pandas\\io\\parsers.py\u001b[0m in \u001b[0;36mread\u001b[1;34m(self, nrows)\u001b[0m\n\u001b[0;32m   2155\u001b[0m     \u001b[1;32mdef\u001b[0m \u001b[0mread\u001b[0m\u001b[1;33m(\u001b[0m\u001b[0mself\u001b[0m\u001b[1;33m,\u001b[0m \u001b[0mnrows\u001b[0m\u001b[1;33m=\u001b[0m\u001b[1;32mNone\u001b[0m\u001b[1;33m)\u001b[0m\u001b[1;33m:\u001b[0m\u001b[1;33m\u001b[0m\u001b[1;33m\u001b[0m\u001b[0m\n\u001b[0;32m   2156\u001b[0m         \u001b[1;32mtry\u001b[0m\u001b[1;33m:\u001b[0m\u001b[1;33m\u001b[0m\u001b[1;33m\u001b[0m\u001b[0m\n\u001b[1;32m-> 2157\u001b[1;33m             \u001b[0mdata\u001b[0m \u001b[1;33m=\u001b[0m \u001b[0mself\u001b[0m\u001b[1;33m.\u001b[0m\u001b[0m_reader\u001b[0m\u001b[1;33m.\u001b[0m\u001b[0mread\u001b[0m\u001b[1;33m(\u001b[0m\u001b[0mnrows\u001b[0m\u001b[1;33m)\u001b[0m\u001b[1;33m\u001b[0m\u001b[1;33m\u001b[0m\u001b[0m\n\u001b[0m\u001b[0;32m   2158\u001b[0m         \u001b[1;32mexcept\u001b[0m \u001b[0mStopIteration\u001b[0m\u001b[1;33m:\u001b[0m\u001b[1;33m\u001b[0m\u001b[1;33m\u001b[0m\u001b[0m\n\u001b[0;32m   2159\u001b[0m             \u001b[1;32mif\u001b[0m \u001b[0mself\u001b[0m\u001b[1;33m.\u001b[0m\u001b[0m_first_chunk\u001b[0m\u001b[1;33m:\u001b[0m\u001b[1;33m\u001b[0m\u001b[1;33m\u001b[0m\u001b[0m\n",
      "\u001b[1;32mpandas\\_libs\\parsers.pyx\u001b[0m in \u001b[0;36mpandas._libs.parsers.TextReader.read\u001b[1;34m()\u001b[0m\n",
      "\u001b[1;32mpandas\\_libs\\parsers.pyx\u001b[0m in \u001b[0;36mpandas._libs.parsers.TextReader._read_low_memory\u001b[1;34m()\u001b[0m\n",
      "\u001b[1;32mpandas\\_libs\\parsers.pyx\u001b[0m in \u001b[0;36mpandas._libs.parsers.TextReader._read_rows\u001b[1;34m()\u001b[0m\n",
      "\u001b[1;32mpandas\\_libs\\parsers.pyx\u001b[0m in \u001b[0;36mpandas._libs.parsers.TextReader._tokenize_rows\u001b[1;34m()\u001b[0m\n",
      "\u001b[1;32mpandas\\_libs\\parsers.pyx\u001b[0m in \u001b[0;36mpandas._libs.parsers.raise_parser_error\u001b[1;34m()\u001b[0m\n",
      "\u001b[1;31mParserError\u001b[0m: Error tokenizing data. C error: Expected 1 fields in line 3, saw 26\n"
     ]
    }
   ],
   "source": [
    "a=pd.read_csv('bur26a.dat', delim_whitespace=True)"
   ]
  },
  {
   "cell_type": "code",
   "execution_count": 22,
   "metadata": {},
   "outputs": [
    {
     "name": "stderr",
     "output_type": "stream",
     "text": [
      "C:\\Users\\Marcel\\.conda\\envs\\Numerics\\lib\\site-packages\\numpy\\core\\_asarray.py:102: VisibleDeprecationWarning: Creating an ndarray from ragged nested sequences (which is a list-or-tuple of lists-or-tuples-or ndarrays with different lengths or shapes) is deprecated. If you meant to do this, you must specify 'dtype=object' when creating the ndarray.\n",
      "  return array(a, dtype, copy=False, order=order)\n"
     ]
    }
   ],
   "source": [
    "import csv\n",
    "import numpy as np\n",
    "with open('bur26a.dat','r') as dest_f:\n",
    "    data_iter = csv.reader(dest_f,\n",
    "                           delimiter = ' ',\n",
    "                           quotechar = '\"')\n",
    "    data = [data for data in data_iter]\n",
    "data_array = np.asarray(data)#, dtype = <whatever options>)"
   ]
  },
  {
   "cell_type": "code",
   "execution_count": 23,
   "metadata": {},
   "outputs": [
    {
     "data": {
      "text/plain": [
       "array([list(['26']), list([]),\n",
       "       list(['53', '66', '66', '66', '66', '53', '53', '53', '53', '53', '73', '53', '53', '53', '66', '53', '53', '53', '53', '85', '73', '73', '73', '73', '53', '53']),\n",
       "       list(['66', '53', '66', '66', '66', '53', '53', '53', '53', '53', '53', '73', '53', '53', '66', '53', '53', '53', '53', '73', '85', '73', '73', '73', '53', '53']),\n",
       "       list(['66', '66', '53', '66', '66', '53', '53', '53', '53', '53', '53', '53', '73', '53', '66', '53', '53', '53', '53', '73', '73', '85', '73', '73', '53', '53']),\n",
       "       list(['66', '66', '66', '53', '66', '53', '53', '53', '53', '53', '53', '53', '53', '73', '73', '53', '53', '53', '53', '73', '73', '73', '85', '85', '53', '53']),\n",
       "       list(['66', '66', '66', '66', '53', '53', '53', '53', '53', '53', '53', '53', '53', '53', '73', '53', '53', '53', '53', '73', '73', '73', '85', '85', '53', '53']),\n",
       "       list(['53', '53', '53', '53', '53', '53', '66', '66', '66', '66', '53', '53', '53', '53', '53', '73', '73', '53', '53', '53', '53', '53', '53', '53', '85', '85']),\n",
       "       list(['53', '53', '53', '53', '53', '66', '53', '66', '66', '66', '53', '53', '53', '53', '53', '73', '73', '53', '53', '53', '53', '53', '53', '53', '85', '85']),\n",
       "       list(['53', '53', '53', '53', '53', '66', '66', '53', '66', '66', '53', '53', '53', '53', '53', '66', '53', '73', '53', '53', '53', '53', '53', '53', '73', '73']),\n",
       "       list(['53', '53', '53', '53', '53', '66', '66', '66', '53', '66', '53', '53', '53', '53', '53', '66', '53', '53', '73', '53', '53', '53', '53', '53', '73', '73']),\n",
       "       list(['53', '53', '53', '53', '53', '66', '66', '66', '66', '53', '53', '53', '53', '53', '53', '66', '53', '53', '53', '53', '53', '53', '53', '53', '73', '73']),\n",
       "       list(['66', '66', '66', '66', '66', '53', '53', '53', '53', '53', '53', '53', '53', '53', '66', '53', '53', '53', '53', '73', '73', '73', '73', '73', '53', '53']),\n",
       "       list(['66', '66', '66', '66', '66', '53', '53', '53', '53', '53', '53', '53', '53', '53', '66', '53', '53', '53', '53', '73', '73', '73', '73', '73', '53', '53']),\n",
       "       list(['66', '66', '66', '66', '66', '53', '53', '53', '53', '53', '53', '53', '53', '53', '66', '53', '53', '53', '53', '73', '73', '73', '73', '73', '53', '53']),\n",
       "       list(['66', '66', '66', '66', '66', '53', '53', '53', '53', '53', '53', '53', '53', '53', '66', '53', '53', '53', '53', '73', '73', '73', '73', '73', '53', '53']),\n",
       "       list(['66', '66', '66', '66', '66', '53', '53', '53', '53', '53', '53', '53', '53', '66', '53', '53', '53', '53', '53', '73', '73', '73', '73', '73', '53', '53']),\n",
       "       list(['53', '53', '53', '53', '53', '66', '66', '66', '66', '66', '53', '53', '53', '53', '53', '53', '66', '53', '53', '53', '53', '53', '53', '53', '73', '73']),\n",
       "       list(['53', '53', '53', '53', '53', '66', '66', '66', '66', '66', '53', '53', '53', '53', '53', '66', '53', '53', '53', '53', '53', '53', '53', '53', '73', '73']),\n",
       "       list(['53', '53', '53', '53', '53', '66', '66', '66', '66', '66', '53', '53', '53', '53', '53', '66', '53', '53', '53', '53', '53', '53', '53', '53', '73', '73']),\n",
       "       list(['53', '53', '53', '53', '53', '66', '66', '66', '66', '66', '53', '53', '53', '53', '53', '66', '53', '53', '53', '53', '53', '53', '53', '53', '73', '73']),\n",
       "       list(['85', '66', '66', '66', '66', '53', '53', '53', '53', '53', '66', '53', '53', '53', '66', '53', '53', '53', '53', '53', '73', '73', '73', '73', '53', '53']),\n",
       "       list(['66', '85', '66', '66', '66', '53', '53', '53', '53', '53', '53', '66', '53', '53', '66', '53', '53', '53', '53', '73', '53', '73', '73', '73', '53', '53']),\n",
       "       list(['66', '66', '85', '66', '66', '53', '53', '53', '53', '53', '53', '53', '66', '53', '66', '53', '53', '53', '53', '73', '73', '53', '73', '73', '53', '53']),\n",
       "       list(['66', '66', '66', '85', '85', '53', '53', '53', '53', '53', '53', '53', '53', '66', '66', '53', '53', '53', '53', '73', '73', '73', '53', '66', '53', '53']),\n",
       "       list(['66', '66', '66', '85', '85', '53', '53', '53', '53', '53', '53', '53', '53', '66', '66', '53', '53', '53', '53', '73', '73', '73', '66', '53', '53', '53']),\n",
       "       list(['53', '53', '53', '53', '53', '85', '85', '66', '66', '66', '53', '53', '53', '53', '53', '66', '66', '53', '53', '53', '53', '53', '53', '53', '53', '66']),\n",
       "       list(['53', '53', '53', '53', '53', '85', '85', '66', '66', '66', '53', '53', '53', '53', '53', '66', '66', '53', '53', '53', '53', '53', '53', '53', '66', '53']),\n",
       "       list([]),\n",
       "       list(['', '47', '348', '', '316', '', '', '74', '', '', '12', '181', '', '338', '', '309', '', '', '35', '', '3', '', '84', '714', '367', '1153', '', '', '7', '', '71', '0', '', '687', '', '432', '', '507', '975', '38', '', '', '6', '', '8', '', '7', '', '15']),\n",
       "       list(['175', '', '', '9', '', '', '', '0', '', '', '', '4', '1300', '', '12', '', '', '41', '', '', '18', '', '183', '', '6', '', '', '3', '102', '', '', '2', '', '', '', '7', '', '84', '', '', '0', '0', '', '150', '', '', '84', '', '', '54', '148', '', '2', '', '13', '', '0', '', '1', '', '11']),\n",
       "       list(['', '19', '', '', '0', '', '', '', '6', '', '', '', '9', '', '', '12', '', '', '0', '', '', '', '1', '3100', '', '', '', '3', '', '1', '209', '', '', '9', '', '', '3', '', '', '', '1', '', '22', '', '', '0', '0', '', '', '', '4', '', '', '', '2', '', '', '', '3', '', '', '1', '', '0', '', '', '2', '', '0', '', '0', '', '', '0']),\n",
       "       list(['575', '', '10', '', '', '', '5', '', '', '', '3', '2729', '', '10', '', '', '10', '', '', '', '6', '1186', '', '0', '', '', '4', '', '48', '', '46', '', '', '30', '103', '', '11', '0', '', '102', '', '', '36', '', '', '34', '160', '', '2', '', '14', '', '0', '', '3', '', '', '1']),\n",
       "       list(['', '56', '265', '', '165', '', '249', '', '', '45', '142', '', '391', '', '398', '2329', '', '4', '132', '747', '479', '4754', '', '32', '', '51', '3', '4501', '1311', '', '512', '326', '26', '111', '43', '', '6', '', '68']),\n",
       "       list(['190', '', '', '3', '', '', '', '0', '', '', '10', '', '313', '112', '', '', '31', '', '', '', '4', '', '', '91', '', '2', '', '', '3', '', '76', '', '', '2', '', '', '16', '104', '', '', '5', '1', '', '163', '', '', '30', '', '257', '', '45', '', '2', '', '', '1', '', '0', '', '1', '', '16']),\n",
       "       list(['187', '', '', '6', '', '', '', '0', '', '', '', '4', '1889', '', '', '9', '', '', '', '7', '', '', '', '2', '', '138', '', '3', '', '33', '126', '', '', '7', '', '', '41', '', '39', '', '', '0', '0', '', '198', '', '199', '', '149', '100', '', '2', '', '', '1', '', '0', '', '5', '', '10']),\n",
       "       list(['626', '', '11', '', '', '', '3', '', '', '', '5', '1232', '', '12', '', '', '', '5', '', '', '', '4', '', '207', '', '2', '', '26', '230', '125', '', '204', '132', '', '', '1', '0', '', '596', '', '113', '', '596', '107', '', '5', '', '67', '', '0', '', '4', '', '12']),\n",
       "       list(['107', '', '50', '1029', '', '149', '2067', '', '53', '', '471', '', '157', '', '', '', '3', '', '2', '151', '370', '292', '2100', '220', '', '18', '3', '', '250', '1038', '1008', '', '25', '65', '', '', '2', '', '4', '', '0', '', '42']),\n",
       "       list(['171', '', '', '0', '', '', '', '0', '', '', '', '0', '', '125', '', '', '0', '', '', '', '0', '', '', '', '0', '', '', '', '0', '', '0', '', '', '0', '', '', '0', '', '', '0', '', '', '', '1', '', '12', '', '', '0', '0', '', '', '', '0', '', '', '', '0', '', '', '', '1', '', '28', '', '0', '', '', '0', '', '0', '', '0', '', '', '0']),\n",
       "       list(['286', '', '', '4', '', '', '', '2', '', '', '', '0', '', '297', '', '11', '', '', '13', '', '', '', '7', '', '', '53', '', '0', '', '', '4', '118', '', '', '1', '', '', '11', '247', '', '', '4', '0', '', '113', '', '', '32', '', '218', '116', '', '1', '', '', '4', '', '0', '', '1', '', '', '3']),\n",
       "       list(['473', '', '80', '', '', '23', '', '', '99', '', '802', '', '49', '', '', '64', '', '', '13', '', '787', '', '2', '', '33', '639', '', '27', '', '', '43', '126', '', '11', '0', '', '', '', '9', '', '239', '', '332', '186', '12', '', '', '1', '', '0', '28', '', '21']),\n",
       "       list(['378', '', '41', '', '', '', '3', '', '', '', '2', '', '567', '', '', '9', '', '', '', '5', '', '', '', '5', '', '581', '', '0', '', '', '5', '', '23', '244', '', '', '', '4', '101', '', '80', '0', '', '', '', '1', '', '', '44', '', '', '86', '101', '', '0', '', '', '6', '', '0', '', '0', '', '', '0']),\n",
       "       list(['407', '', '56', '', '', '36', '1458', '1176', '112', '1045', '', '', '69', '', '534', '', '9', '171', '', '59', '', '57', '', '394', '184', '', '13', '0', '', '', '21', '', '496', '', '701', '194', '24', '', '36', '', '1', '', '5', '159']),\n",
       "       list(['', '16', '', '68', '', '196', '', '111', '', '', '', '6', '', '60', '', '', '56', '', '119', '', '', '', '7', '', '7', '', '35', '344', '193', '', '769', '', '13', '', '73', '0', '', '590', '', '157', '', '114', '', '26', '17', '', '48', '', '3', '', '7', '122']),\n",
       "       list(['188', '', '', '0', '', '', '', '0', '', '', '', '5', '', '111', '', '43', '', '', '', '0', '', '', '25', '', '107', '', '0', '', '', '2', '', '75', '', '', '2', '', '', '', '1', '146', '', '56', '0', '', '391', '', '', '13', '', '', '42', '', '44', '', '0', '', '', '0', '', '0', '', '0', '', '', '0']),\n",
       "       list(['', '', '0', '', '', '0', '', '', '', '0', '', '', '', '0', '', '', '', '1', '', '', '0', '', '', '', '0', '', '', '', '0', '', '', '', '0', '', '0', '', '', '0', '', '', '0', '', '', '0', '', '', '', '0', '', '', '0', '', '', '0', '0', '', '', '', '1', '', '', '', '0', '', '', '', '0', '', '16', '', '0', '', '', '0', '', '0', '', '0', '', '', '0']),\n",
       "       list(['539', '180', '', '', '75', '', '426', '1251', '119', '', '211', '', '129', '', '548', '12', '212', '190', '122', '', '229', '367', '', '41', '0', '', '', '89', '', '443', '', '601', '314', '20', '', '77', '', '2', '', '3', '', '94']),\n",
       "       list(['272', '', '84', '1132', '', '', '18', '', '941', '', '46', '', '', '77', '', '', '51', '', '664', '10', '', '72', '', '47', '', '50', '', '', '', '9', '372', '278', '0', '', '', '62', '', '359', '1432', '', '92', '42', '', '46', '', '0', '19', '', '18']),\n",
       "       list(['381', '', '36', '', '', '', '5', '', '', '', '6', '2158', '', '29', '', '', '38', '', '', '85', '', '595', '', '3', '', '20', '160', '', '21', '', '', '24', '139', '', '', '5', '1', '', '302', '', '419', '', '335', '197', '', '8', '', '98', '', '0', '', '8', '248']),\n",
       "       list(['', '35', '', '64', '', '213', '', '', '35', '', '144', '386', '', '', '94', '', '', '26', '', '', '10', '', '1', '', '38', '', '62', '270', '1624', '', '', '1', '', '56', '0', '', '426', '', '463', '', '284', '', '', '2', '13', '', '', '9', '', '4', '', '0', '', '12']),\n",
       "       list(['', '22', '', '', '1', '', '', '', '0', '', '', '', '1', '', '523', '', '', '0', '', '', '', '0', '', '', '', '0', '', '', '97', '', '0', '', '', '0', '', '', '0', '', '', '0', '', '', '', '0', '525', '', '', '1', '0', '', '', '', '1', '', '', '', '0', '', '', '', '2', '', '', '1', '', '0', '', '', '4', '', '0', '', '0', '', '', '0']),\n",
       "       list(['298', '', '', '1', '', '', '', '0', '', '', '', '1', '', '591', '', '', '0', '', '', '', '0', '', '', '', '2', '', '480', '14', '', '', '0', '', '', '1', '', '', '1', '', '', '', '5', '153', '', '', '0', '1', '', '', '', '0', '', '', '', '4', '', '', '', '0', '', '67', '', '0', '', '', '0', '', '0', '', '0', '', '', '0']),\n",
       "       list(['', '', '5', '', '', '0', '', '', '', '1', '', '', '', '0', '', '', '', '6', '', '', '0', '', '', '', '0', '', '', '', '0', '', '', '15', '', '0', '', '', '1', '', '', '0', '', '', '0', '', '', '', '0', '', '', '2', '', '14', '0', '', '', '', '0', '', '', '', '0', '', '', '', '7', '', '', '3', '', '0', '', '', '0', '', '0', '', '1', '', '', '1']),\n",
       "       list(['', '', '0', '', '', '1', '', '', '', '1', '', '', '', '2', '', '', '10', '', '', '0', '', '', '', '1', '', '', '', '1', '', '', '', '1', '', '0', '', '', '4', '', '', '0', '', '30', '', '', '', '8', '', '', '3', '', '', '9', '0', '', '', '', '3', '', '', '13', '', '', '', '1', '', '', '0', '', '0', '', '', '1', '', '1', '', '0', '', '', '0']),\n",
       "       list(['', '37', '', '', '1', '', '', '', '1', '', '', '', '2', '', '400', '', '', '6', '', '', '10', '', '', '', '2', '', '177', '', '1', '', '', '5', '', '15', '', '', '3', '', '', '', '8', '', '19', '', '', '6', '0', '', '', '', '1', '', '', '', '7', '', '', '78', '529', '', '4', '101', '', '0', '', '1', '', '', '2']),\n",
       "       list([])], dtype=object)"
      ]
     },
     "execution_count": 23,
     "metadata": {},
     "output_type": "execute_result"
    }
   ],
   "source": [
    "data_array"
   ]
  },
  {
   "cell_type": "code",
   "execution_count": 24,
   "metadata": {},
   "outputs": [
    {
     "data": {
      "text/plain": [
       "pandas.core.frame.DataFrame"
      ]
     },
     "execution_count": 24,
     "metadata": {},
     "output_type": "execute_result"
    }
   ],
   "source": [
    "type(a)"
   ]
  },
  {
   "cell_type": "code",
   "execution_count": 29,
   "metadata": {},
   "outputs": [
    {
     "data": {
      "text/plain": [
       "26    53\n",
       "Name: (66, 66, 66, 53, 66, 53, 53, 53, 53, 53, 53, 53, 53, 73, 73, 53, 53, 53, 53, 73, 73, 73, 85, 85, 53), dtype: int64"
      ]
     },
     "execution_count": 29,
     "metadata": {},
     "output_type": "execute_result"
    }
   ],
   "source": [
    "a.iloc[3]"
   ]
  },
  {
   "cell_type": "code",
   "execution_count": 31,
   "metadata": {},
   "outputs": [
    {
     "ename": "ValueError",
     "evalue": "Some errors were detected !\n    Line #3 (got 26 columns instead of 1)\n    Line #4 (got 26 columns instead of 1)\n    Line #5 (got 26 columns instead of 1)\n    Line #6 (got 26 columns instead of 1)\n    Line #7 (got 26 columns instead of 1)\n    Line #8 (got 26 columns instead of 1)\n    Line #9 (got 26 columns instead of 1)\n    Line #10 (got 26 columns instead of 1)\n    Line #11 (got 26 columns instead of 1)\n    Line #12 (got 26 columns instead of 1)\n    Line #13 (got 26 columns instead of 1)\n    Line #14 (got 26 columns instead of 1)\n    Line #15 (got 26 columns instead of 1)\n    Line #16 (got 26 columns instead of 1)\n    Line #17 (got 26 columns instead of 1)\n    Line #18 (got 26 columns instead of 1)\n    Line #19 (got 26 columns instead of 1)\n    Line #20 (got 26 columns instead of 1)\n    Line #21 (got 26 columns instead of 1)\n    Line #22 (got 26 columns instead of 1)\n    Line #23 (got 26 columns instead of 1)\n    Line #24 (got 26 columns instead of 1)\n    Line #25 (got 26 columns instead of 1)\n    Line #26 (got 26 columns instead of 1)\n    Line #27 (got 26 columns instead of 1)\n    Line #28 (got 26 columns instead of 1)\n    Line #30 (got 26 columns instead of 1)\n    Line #31 (got 26 columns instead of 1)\n    Line #32 (got 26 columns instead of 1)\n    Line #33 (got 26 columns instead of 1)\n    Line #34 (got 26 columns instead of 1)\n    Line #35 (got 26 columns instead of 1)\n    Line #36 (got 26 columns instead of 1)\n    Line #37 (got 26 columns instead of 1)\n    Line #38 (got 26 columns instead of 1)\n    Line #39 (got 26 columns instead of 1)\n    Line #40 (got 26 columns instead of 1)\n    Line #41 (got 26 columns instead of 1)\n    Line #42 (got 26 columns instead of 1)\n    Line #43 (got 26 columns instead of 1)\n    Line #44 (got 26 columns instead of 1)\n    Line #45 (got 26 columns instead of 1)\n    Line #46 (got 26 columns instead of 1)\n    Line #47 (got 26 columns instead of 1)\n    Line #48 (got 26 columns instead of 1)\n    Line #49 (got 26 columns instead of 1)\n    Line #50 (got 26 columns instead of 1)\n    Line #51 (got 26 columns instead of 1)\n    Line #52 (got 26 columns instead of 1)\n    Line #53 (got 26 columns instead of 1)\n    Line #54 (got 26 columns instead of 1)\n    Line #55 (got 26 columns instead of 1)",
     "output_type": "error",
     "traceback": [
      "\u001b[1;31m---------------------------------------------------------------------------\u001b[0m",
      "\u001b[1;31mValueError\u001b[0m                                Traceback (most recent call last)",
      "\u001b[1;32m<ipython-input-31-5f6acee63d87>\u001b[0m in \u001b[0;36m<module>\u001b[1;34m\u001b[0m\n\u001b[1;32m----> 1\u001b[1;33m \u001b[0mnp\u001b[0m\u001b[1;33m.\u001b[0m\u001b[0mgenfromtxt\u001b[0m\u001b[1;33m(\u001b[0m\u001b[1;34m'bur26a.dat'\u001b[0m\u001b[1;33m,\u001b[0m \u001b[0mdtype\u001b[0m\u001b[1;33m=\u001b[0m \u001b[0mint\u001b[0m\u001b[1;33m)\u001b[0m\u001b[1;33m\u001b[0m\u001b[1;33m\u001b[0m\u001b[0m\n\u001b[0m",
      "\u001b[1;32m~\\.conda\\envs\\Numerics\\lib\\site-packages\\numpy\\lib\\npyio.py\u001b[0m in \u001b[0;36mgenfromtxt\u001b[1;34m(fname, dtype, comments, delimiter, skip_header, skip_footer, converters, missing_values, filling_values, usecols, names, excludelist, deletechars, replace_space, autostrip, case_sensitive, defaultfmt, unpack, usemask, loose, invalid_raise, max_rows, encoding, like)\u001b[0m\n\u001b[0;32m   2120\u001b[0m             \u001b[1;31m# Raise an exception ?\u001b[0m\u001b[1;33m\u001b[0m\u001b[1;33m\u001b[0m\u001b[1;33m\u001b[0m\u001b[0m\n\u001b[0;32m   2121\u001b[0m             \u001b[1;32mif\u001b[0m \u001b[0minvalid_raise\u001b[0m\u001b[1;33m:\u001b[0m\u001b[1;33m\u001b[0m\u001b[1;33m\u001b[0m\u001b[0m\n\u001b[1;32m-> 2122\u001b[1;33m                 \u001b[1;32mraise\u001b[0m \u001b[0mValueError\u001b[0m\u001b[1;33m(\u001b[0m\u001b[0merrmsg\u001b[0m\u001b[1;33m)\u001b[0m\u001b[1;33m\u001b[0m\u001b[1;33m\u001b[0m\u001b[0m\n\u001b[0m\u001b[0;32m   2123\u001b[0m             \u001b[1;31m# Issue a warning ?\u001b[0m\u001b[1;33m\u001b[0m\u001b[1;33m\u001b[0m\u001b[1;33m\u001b[0m\u001b[0m\n\u001b[0;32m   2124\u001b[0m             \u001b[1;32melse\u001b[0m\u001b[1;33m:\u001b[0m\u001b[1;33m\u001b[0m\u001b[1;33m\u001b[0m\u001b[0m\n",
      "\u001b[1;31mValueError\u001b[0m: Some errors were detected !\n    Line #3 (got 26 columns instead of 1)\n    Line #4 (got 26 columns instead of 1)\n    Line #5 (got 26 columns instead of 1)\n    Line #6 (got 26 columns instead of 1)\n    Line #7 (got 26 columns instead of 1)\n    Line #8 (got 26 columns instead of 1)\n    Line #9 (got 26 columns instead of 1)\n    Line #10 (got 26 columns instead of 1)\n    Line #11 (got 26 columns instead of 1)\n    Line #12 (got 26 columns instead of 1)\n    Line #13 (got 26 columns instead of 1)\n    Line #14 (got 26 columns instead of 1)\n    Line #15 (got 26 columns instead of 1)\n    Line #16 (got 26 columns instead of 1)\n    Line #17 (got 26 columns instead of 1)\n    Line #18 (got 26 columns instead of 1)\n    Line #19 (got 26 columns instead of 1)\n    Line #20 (got 26 columns instead of 1)\n    Line #21 (got 26 columns instead of 1)\n    Line #22 (got 26 columns instead of 1)\n    Line #23 (got 26 columns instead of 1)\n    Line #24 (got 26 columns instead of 1)\n    Line #25 (got 26 columns instead of 1)\n    Line #26 (got 26 columns instead of 1)\n    Line #27 (got 26 columns instead of 1)\n    Line #28 (got 26 columns instead of 1)\n    Line #30 (got 26 columns instead of 1)\n    Line #31 (got 26 columns instead of 1)\n    Line #32 (got 26 columns instead of 1)\n    Line #33 (got 26 columns instead of 1)\n    Line #34 (got 26 columns instead of 1)\n    Line #35 (got 26 columns instead of 1)\n    Line #36 (got 26 columns instead of 1)\n    Line #37 (got 26 columns instead of 1)\n    Line #38 (got 26 columns instead of 1)\n    Line #39 (got 26 columns instead of 1)\n    Line #40 (got 26 columns instead of 1)\n    Line #41 (got 26 columns instead of 1)\n    Line #42 (got 26 columns instead of 1)\n    Line #43 (got 26 columns instead of 1)\n    Line #44 (got 26 columns instead of 1)\n    Line #45 (got 26 columns instead of 1)\n    Line #46 (got 26 columns instead of 1)\n    Line #47 (got 26 columns instead of 1)\n    Line #48 (got 26 columns instead of 1)\n    Line #49 (got 26 columns instead of 1)\n    Line #50 (got 26 columns instead of 1)\n    Line #51 (got 26 columns instead of 1)\n    Line #52 (got 26 columns instead of 1)\n    Line #53 (got 26 columns instead of 1)\n    Line #54 (got 26 columns instead of 1)\n    Line #55 (got 26 columns instead of 1)"
     ]
    }
   ],
   "source": [
    "np.genfromtxt('bur26a.dat', dtype= int)"
   ]
  },
  {
   "cell_type": "code",
   "execution_count": 32,
   "metadata": {},
   "outputs": [],
   "source": [
    "arrays = [np.array(map(int, line.split())) for line in open('bur26a.dat')]"
   ]
  },
  {
   "cell_type": "code",
   "execution_count": 36,
   "metadata": {},
   "outputs": [
    {
     "data": {
      "text/plain": [
       "[array(<map object at 0x000002781BB38520>, dtype=object),\n",
       " array(<map object at 0x000002781CA3C8E0>, dtype=object),\n",
       " array(<map object at 0x000002781CB54310>, dtype=object),\n",
       " array(<map object at 0x000002781CB54370>, dtype=object),\n",
       " array(<map object at 0x000002781CB54100>, dtype=object),\n",
       " array(<map object at 0x000002781CB54160>, dtype=object),\n",
       " array(<map object at 0x000002781CB541C0>, dtype=object),\n",
       " array(<map object at 0x000002781CB542E0>, dtype=object),\n",
       " array(<map object at 0x000002781CB54280>, dtype=object),\n",
       " array(<map object at 0x000002781CB543A0>, dtype=object),\n",
       " array(<map object at 0x000002781CB54430>, dtype=object),\n",
       " array(<map object at 0x000002781CB544C0>, dtype=object),\n",
       " array(<map object at 0x000002781CB54550>, dtype=object),\n",
       " array(<map object at 0x000002781CB545E0>, dtype=object),\n",
       " array(<map object at 0x000002781CB54670>, dtype=object),\n",
       " array(<map object at 0x000002781CB54700>, dtype=object),\n",
       " array(<map object at 0x000002781CB54790>, dtype=object),\n",
       " array(<map object at 0x000002781CB54820>, dtype=object),\n",
       " array(<map object at 0x000002781CB548B0>, dtype=object),\n",
       " array(<map object at 0x000002781CB54940>, dtype=object),\n",
       " array(<map object at 0x000002781CB549D0>, dtype=object),\n",
       " array(<map object at 0x000002781CB54A60>, dtype=object),\n",
       " array(<map object at 0x000002781CB54AF0>, dtype=object),\n",
       " array(<map object at 0x000002781CB54B80>, dtype=object),\n",
       " array(<map object at 0x000002781CB54C10>, dtype=object),\n",
       " array(<map object at 0x000002781CB54CA0>, dtype=object),\n",
       " array(<map object at 0x000002781CB54D30>, dtype=object),\n",
       " array(<map object at 0x000002781CB54DC0>, dtype=object),\n",
       " array(<map object at 0x000002781CB54E50>, dtype=object),\n",
       " array(<map object at 0x000002781CB54EE0>, dtype=object),\n",
       " array(<map object at 0x000002781CB54F70>, dtype=object),\n",
       " array(<map object at 0x000002781CB75040>, dtype=object),\n",
       " array(<map object at 0x000002781CB750D0>, dtype=object),\n",
       " array(<map object at 0x000002781CB75160>, dtype=object),\n",
       " array(<map object at 0x000002781CB751F0>, dtype=object),\n",
       " array(<map object at 0x000002781CB75280>, dtype=object),\n",
       " array(<map object at 0x000002781CB75310>, dtype=object),\n",
       " array(<map object at 0x000002781CB753A0>, dtype=object),\n",
       " array(<map object at 0x000002781CB75430>, dtype=object),\n",
       " array(<map object at 0x000002781CB754C0>, dtype=object),\n",
       " array(<map object at 0x000002781CB75550>, dtype=object),\n",
       " array(<map object at 0x000002781CB755E0>, dtype=object),\n",
       " array(<map object at 0x000002781CB75670>, dtype=object),\n",
       " array(<map object at 0x000002781CB75700>, dtype=object),\n",
       " array(<map object at 0x000002781CB75790>, dtype=object),\n",
       " array(<map object at 0x000002781CB75820>, dtype=object),\n",
       " array(<map object at 0x000002781CB758B0>, dtype=object),\n",
       " array(<map object at 0x000002781CB75940>, dtype=object),\n",
       " array(<map object at 0x000002781CB759D0>, dtype=object),\n",
       " array(<map object at 0x000002781CB75A60>, dtype=object),\n",
       " array(<map object at 0x000002781CB75AF0>, dtype=object),\n",
       " array(<map object at 0x000002781CB75B80>, dtype=object),\n",
       " array(<map object at 0x000002781BB5FC10>, dtype=object),\n",
       " array(<map object at 0x000002781CA3CA00>, dtype=object),\n",
       " array(<map object at 0x000002781CA3C6A0>, dtype=object),\n",
       " array(<map object at 0x000002781CA3CC10>, dtype=object)]"
      ]
     },
     "execution_count": 36,
     "metadata": {},
     "output_type": "execute_result"
    }
   ],
   "source": [
    "arrays"
   ]
  },
  {
   "cell_type": "code",
   "execution_count": 89,
   "metadata": {},
   "outputs": [],
   "source": [
    "f = open('bur26a.dat','r')\n",
    "liste= []\n",
    "liste2= []\n",
    "\n",
    "counter=0\n",
    "for l in f:\n",
    "       if counter==0:\n",
    "            dimension= int(l) \n",
    "            \n",
    "       if counter>1 and counter <28:\n",
    "    \n",
    "           g = np.array([int(v) for v in l.strip().split(\" \")])\n",
    "           liste.append(g)\n",
    "       if counter>28 and counter<55:\n",
    "           g = np.array( [ v for v in l.strip().split(\" \")])\n",
    "           g= np.delete(g,np.where(g==''))\n",
    "\n",
    "                \n",
    "           g= [int(elem) for elem in g]\n",
    "            \n",
    "           liste2.append(g)\n",
    "       counter = counter +1\n",
    "A= np.array(liste)\n",
    "B= np.array(liste2)"
   ]
  },
  {
   "cell_type": "code",
   "execution_count": 90,
   "metadata": {},
   "outputs": [
    {
     "data": {
      "text/plain": [
       "(26, 26)"
      ]
     },
     "execution_count": 90,
     "metadata": {},
     "output_type": "execute_result"
    }
   ],
   "source": [
    "B.shape"
   ]
  },
  {
   "cell_type": "code",
   "execution_count": 85,
   "metadata": {},
   "outputs": [
    {
     "data": {
      "text/plain": [
       "['175',\n",
       " '9',\n",
       " '',\n",
       " '4',\n",
       " '1300',\n",
       " '12',\n",
       " '18',\n",
       " '',\n",
       " '102',\n",
       " '',\n",
       " '7',\n",
       " '84',\n",
       " '0',\n",
       " '84',\n",
       " '54',\n",
       " '2',\n",
       " '1',\n",
       " '11']"
      ]
     },
     "execution_count": 85,
     "metadata": {},
     "output_type": "execute_result"
    }
   ],
   "source": [
    "g"
   ]
  },
  {
   "cell_type": "code",
   "execution_count": 77,
   "metadata": {},
   "outputs": [],
   "source": [
    "indexes = [elem=='' for elem in g]\n",
    "for index in sorted(indexes, reverse=True):\n",
    "    del g[index]"
   ]
  },
  {
   "cell_type": "code",
   "execution_count": 84,
   "metadata": {},
   "outputs": [
    {
     "ename": "IndexError",
     "evalue": "list index out of range",
     "output_type": "error",
     "traceback": [
      "\u001b[1;31m---------------------------------------------------------------------------\u001b[0m",
      "\u001b[1;31mIndexError\u001b[0m                                Traceback (most recent call last)",
      "\u001b[1;32m<ipython-input-84-1aa19cd1a193>\u001b[0m in \u001b[0;36m<module>\u001b[1;34m\u001b[0m\n\u001b[0;32m      1\u001b[0m \u001b[0mindexes\u001b[0m \u001b[1;33m=\u001b[0m \u001b[1;33m[\u001b[0m\u001b[0melem\u001b[0m\u001b[1;33m==\u001b[0m\u001b[1;34m''\u001b[0m \u001b[1;32mfor\u001b[0m \u001b[0melem\u001b[0m \u001b[1;32min\u001b[0m \u001b[0mg\u001b[0m\u001b[1;33m]\u001b[0m\u001b[1;33m\u001b[0m\u001b[1;33m\u001b[0m\u001b[0m\n\u001b[0;32m      2\u001b[0m \u001b[1;32mfor\u001b[0m \u001b[0mindex\u001b[0m \u001b[1;32min\u001b[0m \u001b[0mrange\u001b[0m\u001b[1;33m(\u001b[0m\u001b[0mlen\u001b[0m\u001b[1;33m(\u001b[0m\u001b[0mg\u001b[0m\u001b[1;33m)\u001b[0m\u001b[1;33m)\u001b[0m\u001b[1;33m:\u001b[0m\u001b[1;33m\u001b[0m\u001b[1;33m\u001b[0m\u001b[0m\n\u001b[1;32m----> 3\u001b[1;33m     \u001b[1;32mif\u001b[0m \u001b[0mg\u001b[0m\u001b[1;33m[\u001b[0m\u001b[0mlen\u001b[0m\u001b[1;33m(\u001b[0m\u001b[0mg\u001b[0m\u001b[1;33m)\u001b[0m\u001b[1;33m-\u001b[0m \u001b[0mindex\u001b[0m\u001b[1;33m-\u001b[0m\u001b[1;36m1\u001b[0m\u001b[1;33m]\u001b[0m\u001b[1;33m==\u001b[0m\u001b[1;34m''\u001b[0m\u001b[1;33m:\u001b[0m\u001b[1;33m\u001b[0m\u001b[1;33m\u001b[0m\u001b[0m\n\u001b[0m\u001b[0;32m      4\u001b[0m         \u001b[1;32mdel\u001b[0m \u001b[0mg\u001b[0m\u001b[1;33m[\u001b[0m\u001b[0mlen\u001b[0m\u001b[1;33m(\u001b[0m\u001b[0mg\u001b[0m\u001b[1;33m)\u001b[0m\u001b[1;33m-\u001b[0m \u001b[0mindex\u001b[0m\u001b[1;33m-\u001b[0m\u001b[1;36m1\u001b[0m\u001b[1;33m]\u001b[0m\u001b[1;33m\u001b[0m\u001b[1;33m\u001b[0m\u001b[0m\n",
      "\u001b[1;31mIndexError\u001b[0m: list index out of range"
     ]
    }
   ],
   "source": [
    "indexes = [elem=='' for elem in g]\n",
    "for index in range(len(g)):\n",
    "    if g[len(g)- index-1]=='':\n",
    "        del g[len(g)- index-1]"
   ]
  },
  {
   "cell_type": "code",
   "execution_count": null,
   "metadata": {},
   "outputs": [],
   "source": []
  }
 ],
 "metadata": {
  "kernelspec": {
   "display_name": "Python 3",
   "language": "python",
   "name": "python3"
  },
  "language_info": {
   "codemirror_mode": {
    "name": "ipython",
    "version": 3
   },
   "file_extension": ".py",
   "mimetype": "text/x-python",
   "name": "python",
   "nbconvert_exporter": "python",
   "pygments_lexer": "ipython3",
   "version": "3.9.0"
  }
 },
 "nbformat": 4,
 "nbformat_minor": 4
}
